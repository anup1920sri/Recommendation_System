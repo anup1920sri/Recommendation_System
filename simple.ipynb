import numpy as np
import pandas as pd
import matplotlib.pyplot as plt
import seaborn as sns
from ast import literal_eval
sns.set_style('dark')

ratings = pd.read_csv("ratings.csv")
# print(ratings.head())
# print(ratings['movieId'].dtype)

movies = pd.read_csv("./Data/movies_metadata.csv")
movies.rename(columns={'id':'movieId'},inplace=True)
movies = movies[movies.movieId.apply(lambda x: x.isnumeric())]
movies[['movieId']] = movies[['movieId']].apply(pd.to_numeric)
# print(movies['movieId'].dtype)

# print(movies.head())

movie_data = pd.merge(ratings,movies,on='movieId')
mean_ratings = pd.DataFrame(movie_data.groupby('title')['rating'].mean())
mean_ratings['num_votes'] = pd.DataFrame(movie_data.groupby('title')['rating'].count())
mean_ratings = mean_ratings.sort_values(['num_votes','rating'],ascending=(False,False))
# print(mean_ratings.head())

plt.figure(figsize=(8,6))
plt.rcParams['patch.force_edgecolor'] = True
mean_ratings['num_votes'].hist(bins=50)
# plt.show()

plt.figure(figsize=(8,6))
plt.rcParams['patch.force_edgecolor'] = True
mean_ratings['rating'].hist(bins=50)
# plt.show()

user_movie_rating = movie_data.pivot_table(index='userId', columns='title', values='rating')
# print(user_movie_rating.head())


"""
Genre wise rating
"""
genres = pd.DataFrame(movie_data[['title','genres']])
genres = genres.drop_duplicates()

for index,row in genres.iterrows():
    row['genres'] = literal_eval(row['genres'])
    l = []
    for d in row['genres']:
        l.append(d['name'])
    row['genres'] = l

genre_df = pd.DataFrame(genres['genres'].tolist(),index=genres['title']).stack()
genre_df = genre_df.reset_index([0, 'title'])
genre_df.columns = ['title', 'Genre']

genre = pd.merge(genre_df,movie_data,on='title')
genre_mean_ratings = pd.DataFrame(genre.groupby(['Genre','title'])['rating'].mean())
genre_mean_ratings['num_votes'] = pd.DataFrame(genre.groupby(['Genre','title'])['rating'].count())
# genre_mean_ratings = genre_mean_ratings.sort_values(['num_votes','rating'],ascending=(False,False))
print(genre_mean_ratings.head(15))

"""
Find movies similar to terminator 3 with at least 50 common voters
"""
terminator3_ratings = user_movie_rating['Terminator 3: Rise of the Machines']
movies_like_terminator3 = user_movie_rating.corrwith(terminator3_ratings)

corr_terminator3 = pd.DataFrame(movies_like_terminator3, columns=['Correlation'])
corr_terminator3.dropna(inplace=True)
corr_terminator3 = corr_terminator3.join(mean_ratings['num_votes'])
# print(corr_terminator3[corr_terminator3 ['num_votes']>50].sort_values('Correlation', ascending=False).head())
# print(corr_terminator3.sort_values('Correlation', ascending=False).head(10))
